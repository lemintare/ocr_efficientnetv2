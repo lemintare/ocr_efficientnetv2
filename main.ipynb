{
 "cells": [
  {
   "cell_type": "code",
   "execution_count": 1,
   "metadata": {},
   "outputs": [
    {
     "name": "stderr",
     "output_type": "stream",
     "text": [
      "d:\\Envs\\torch\\Lib\\site-packages\\tqdm\\auto.py:21: TqdmWarning: IProgress not found. Please update jupyter and ipywidgets. See https://ipywidgets.readthedocs.io/en/stable/user_install.html\n",
      "  from .autonotebook import tqdm as notebook_tqdm\n"
     ]
    }
   ],
   "source": [
    "import torch\n",
    "import torch.nn as nn\n",
    "import torch.nn.functional as F\n",
    "import timm"
   ]
  },
  {
   "cell_type": "code",
   "execution_count": 2,
   "metadata": {},
   "outputs": [],
   "source": [
    "device = torch.device('cuda')"
   ]
  },
  {
   "cell_type": "code",
   "execution_count": 3,
   "metadata": {},
   "outputs": [],
   "source": [
    "class EfficientNetV2LOCR(nn.Module):\n",
    "    def __init__(self, len_chars, shape_inp_img):\n",
    "        super(EfficientNetV2LOCR, self).__init__()\n",
    "        self.len_chars = len_chars\n",
    "        self.shape_inp_img = shape_inp_img\n",
    "\n",
    "        self.base_model = timm.create_model('efficientnetv2_l',\n",
    "                                            pretrained=False,\n",
    "                                            num_classes=0,\n",
    "                                            features_only=True).to(device)\n",
    "        \n",
    "        self.dropout = nn.Dropout(0.3)\n",
    "\n",
    "        self.lstm = nn.LSTM(\n",
    "            input_size=self._get_lstm_input_size(),\n",
    "            hidden_size=256,\n",
    "            num_layers=1,\n",
    "            batch_first=True,\n",
    "            bidirectional=True,\n",
    "            dropout=0.3 if True else 0.0\n",
    "        ).to(device)\n",
    "\n",
    "        self.batch_norm = nn.BatchNorm1d(256).to(device)\n",
    "        \n",
    "        self.fc = nn.Linear(256, len_chars + 1).to(device)  \n",
    "\n",
    "    def _get_lstm_input_size(self):\n",
    "        dummy_input = torch.zeros(1, *self.shape_inp_img).to(device)\n",
    "        with torch.no_grad():\n",
    "            features = self.base_model(dummy_input)\n",
    "            _, C, H, W = features[-1].shape\n",
    "            return C  \n",
    "\n",
    "    def forward(self, x):\n",
    "        features = self.base_model(x)\n",
    "        feature = features[-1] \n",
    "\n",
    "        batch_size, C, H, W = feature.size()\n",
    "        x = feature.permute(0, 2, 3, 1).contiguous().view(batch_size, H * W, C)\n",
    "\n",
    "        x = self.dropout(x)\n",
    "\n",
    "        lstm_out, _ = self.lstm(x)\n",
    "        lstm_out_forward = lstm_out[:, :, :256]\n",
    "        lstm_out_backward = lstm_out[:, :, 256:]\n",
    "        x = (lstm_out_forward + lstm_out_backward) / 2\n",
    "\n",
    "        x = x.permute(0, 2, 1).contiguous()\n",
    "        x = self.batch_norm(x)\n",
    "        x = x.permute(0, 2, 1).contiguous()\n",
    "\n",
    "        x = self.fc(x)\n",
    "        x = F.log_softmax(x, dim=2)  \n",
    "        x = x.permute(1, 0, 2)  \n",
    "\n",
    "        return x\n"
   ]
  },
  {
   "cell_type": "code",
   "execution_count": 4,
   "metadata": {},
   "outputs": [],
   "source": [
    "import numpy as np\n",
    "from torch.utils.data import Dataset, DataLoader\n",
    "import albumentations as A\n",
    "from albumentations.pytorch import ToTensorV2\n",
    "from PIL import Image\n",
    "import os"
   ]
  },
  {
   "cell_type": "code",
   "execution_count": 5,
   "metadata": {},
   "outputs": [],
   "source": [
    "vocabulary = \"-1234567890ABEKMHOPCTYX\"\n",
    "\n",
    "char_to_idx = {char: idx + 1 for idx, char in enumerate(vocabulary)}\n",
    "char_to_idx['blank'] = 0  \n",
    "char_to_idx['PAD'] = len(char_to_idx)\n",
    "\n",
    "idx_to_char = {idx: char for char, idx in char_to_idx.items()}"
   ]
  },
  {
   "cell_type": "code",
   "execution_count": 6,
   "metadata": {},
   "outputs": [],
   "source": [
    "class PlateDataset(Dataset):\n",
    "    def __init__(self, dir_path: str, transform=None):\n",
    "        self.dir_path = dir_path\n",
    "        self.transform = transform\n",
    "\n",
    "        self.image_files = [f for f in os.listdir(dir_path) if f.endswith(('.png', '.jpg', '.jpeg'))]\n",
    "        self.image_files.sort()\n",
    "\n",
    "    def __len__(self):\n",
    "        return len(self.image_files)\n",
    "    \n",
    "    def __getitem__(self, idx):\n",
    "        \"\"\"\n",
    "        Возвращаем изображение и метку по индексу\n",
    "\n",
    "        Args:\n",
    "            idx (int): Индекс элемента.\n",
    "        \n",
    "        Returns:\n",
    "            tuple: (изображение, метка в виде индексов)\n",
    "        \"\"\"\n",
    "\n",
    "        img_name = self.image_files[idx]\n",
    "        img_path = os.path.join(self.dir_path, img_name)\n",
    "\n",
    "        image = Image.open(img_path).convert('RGB')\n",
    "        image = np.array(image)\n",
    "\n",
    "        if self.transform:\n",
    "            augmented = self.transform(image=image)\n",
    "            image = augmented['image']\n",
    "\n",
    "        label = os.path.splitext(img_name)[0]\n",
    "\n",
    "        indices = self.label_to_indices(label=label)\n",
    "\n",
    "        return image, torch.tensor(indices, dtype=torch.long)\n",
    "\n",
    "    def label_to_indices(self, label):\n",
    "        indices = [char_to_idx[char] for char in label if char in char_to_idx and char != 'PAD']\n",
    "        return indices\n"
   ]
  },
  {
   "cell_type": "code",
   "execution_count": 7,
   "metadata": {},
   "outputs": [],
   "source": [
    "class PlatesRecognized:\n",
    "    def __init__(self):\n",
    "        self.false_rec_car_plates = 0\n",
    "        self.all_car_plates = 0\n",
    "\n",
    "    def update_state(self, y_true, y_pred):\n",
    "        max_length = min(y_true.size(1), y_pred.size(1))  \n",
    "        y_true, y_pred = y_true[:, :max_length], y_pred[:, :max_length]\n",
    "\n",
    "        res_in_batch_bool = torch.logical_not(y_true.eq(y_pred))\n",
    "        res_in_batch_num = res_in_batch_bool.sum(dim=1)\n",
    "        self.false_rec_car_plates += (res_in_batch_num > 0).sum().item()\n",
    "        self.all_car_plates += y_true.size(0)\n",
    "\n",
    "    def result(self):\n",
    "        return 1.0 - self.false_rec_car_plates / self.all_car_plates if self.all_car_plates else 0.0\n",
    "\n",
    "    def reset(self):\n",
    "        self.false_rec_car_plates = 0\n",
    "        self.all_car_plates = 0"
   ]
  },
  {
   "cell_type": "code",
   "execution_count": 8,
   "metadata": {},
   "outputs": [],
   "source": [
    "class SymbolsRecognized:\n",
    "    def __init__(self):\n",
    "        self.false_rec_symbols = 0\n",
    "        self.all_symbols = 0\n",
    "\n",
    "    def update_state(self, y_true, y_pred):\n",
    "        max_length = min(y_true.size(1), y_pred.size(1))  \n",
    "        y_true, y_pred = y_true[:, :max_length], y_pred[:, :max_length]\n",
    "\n",
    "        res_in_batch_bool = torch.logical_not(y_true.eq(y_pred))\n",
    "        res_in_batch_num = res_in_batch_bool.sum()\n",
    "        self.false_rec_symbols += res_in_batch_num.item()\n",
    "        self.all_symbols += y_true.numel()\n",
    "\n",
    "    def result(self):\n",
    "        return 1.0 - self.false_rec_symbols / self.all_symbols if self.all_symbols else 0.0\n",
    "\n",
    "    def reset(self):\n",
    "        self.false_rec_symbols = 0\n",
    "        self.all_symbols = 0"
   ]
  },
  {
   "cell_type": "code",
   "execution_count": 9,
   "metadata": {},
   "outputs": [],
   "source": [
    "transform = A.Compose([\n",
    "    A.Resize(width=200, height=100),\n",
    "    A.HorizontalFlip(p=0.5),\n",
    "    A.Rotate(limit=10, p=0.5),\n",
    "    A.ColorJitter(brightness=0.2, contrast=0.2, saturation=0.2, hue=0.2, p=0.5),\n",
    "    A.Normalize(mean=(0.5, 0.5, 0.5), std=(0.5, 0.5, 0.5)),\n",
    "    ToTensorV2(),\n",
    "])\n",
    "\n",
    "\n",
    "train_dir = r'D:\\Thesis\\cache\\storage_manager\\datasets\\ds_2ff4fcefd16749ac9485120c54e61a37\\train\\img'\n",
    "\n",
    "train_dataset = PlateDataset(dir_path=train_dir, transform=transform)\n",
    "\n",
    "def collate_fn(batch):\n",
    "    images, labels = zip(*batch)\n",
    "\n",
    "    images = torch.stack(images, 0)\n",
    "\n",
    "    max_label_length = max(len(label) for label in labels)\n",
    "    labels_padded = torch.full((len(labels), max_label_length), fill_value=char_to_idx['PAD'], dtype=torch.long)\n",
    "\n",
    "\n",
    "    for i, label in enumerate(labels):\n",
    "        labels_padded[i, :len(label)] = label\n",
    "\n",
    "    label_lengths = torch.tensor([len(label) for label in labels], dtype=torch.long)\n",
    "    return images, labels_padded, label_lengths\n",
    "\n",
    "\n",
    "\n",
    "batch_size = 16\n",
    "\n",
    "train_dataloader = DataLoader(\n",
    "    dataset=train_dataset,\n",
    "    batch_size=batch_size,\n",
    "    shuffle=True,\n",
    "    collate_fn=collate_fn,\n",
    "    pin_memory=True\n",
    ")\n",
    "\n"
   ]
  },
  {
   "cell_type": "code",
   "execution_count": 10,
   "metadata": {},
   "outputs": [],
   "source": [
    "val_dir = r'D:\\Thesis\\cache\\storage_manager\\datasets\\ds_2ff4fcefd16749ac9485120c54e61a37\\val\\img'\n",
    "\n",
    "val_dataset = PlateDataset(dir_path=val_dir, transform=transform)\n",
    "\n",
    "val_dataloader = DataLoader(\n",
    "    dataset=val_dataset,\n",
    "    batch_size=batch_size,\n",
    "    shuffle=False,\n",
    "    collate_fn=collate_fn,\n",
    "    pin_memory=True\n",
    ")"
   ]
  },
  {
   "cell_type": "code",
   "execution_count": 11,
   "metadata": {},
   "outputs": [
    {
     "name": "stdout",
     "output_type": "stream",
     "text": [
      "ClearML Task: created new task id=b7afe611891342c3a4c695964edad4f2\n",
      "ClearML results page: http://127.0.0.1:8080/projects/60b6a1102bdc4de3bdc5a20e918b0379/experiments/b7afe611891342c3a4c695964edad4f2/output/log\n",
      "2024-10-27 13:46:45,670 - clearml.Task - INFO - Storing jupyter notebook directly as code\n"
     ]
    }
   ],
   "source": [
    "from clearml import Task\n",
    "\n",
    "task = Task.init(project_name='thesis', task_name='OCR_EfficientNetV2L')"
   ]
  },
  {
   "cell_type": "code",
   "execution_count": 12,
   "metadata": {},
   "outputs": [
    {
     "name": "stdout",
     "output_type": "stream",
     "text": [
      "2024-10-27 13:46:45,812 - clearml.Repository Detection - WARNING - Can't get url information for git repo in d:\\Programs\\Code\\efficient\n",
      "2024-10-27 14:10:20,577 - clearml.Task - WARNING - Task b7afe611891342c3a4c695964edad4f2 was reset! if state is consistent we shall terminate.\n",
      "2024-10-27 14:10:22,602 - clearml.Task - WARNING - Task b7afe611891342c3a4c695964edad4f2 was reset! if state is consistent we shall terminate.\n",
      "2024-10-27 14:10:24,626 - clearml.Task - WARNING - Task b7afe611891342c3a4c695964edad4f2 was reset! if state is consistent we shall terminate.\n",
      "2024-10-27 14:10:26,665 - clearml.Task - WARNING - ### TASK STOPPED - USER ABORTED - RESET ###\n"
     ]
    },
    {
     "name": "stderr",
     "output_type": "stream",
     "text": [
      "d:\\Envs\\torch\\Lib\\site-packages\\torch\\nn\\modules\\rnn.py:123: UserWarning: dropout option adds dropout after all but last recurrent layer, so non-zero dropout expects num_layers greater than 1, but got dropout=0.3 and num_layers=1\n",
      "  warnings.warn(\n"
     ]
    }
   ],
   "source": [
    "num_classes = len(char_to_idx) - 1\n",
    "\n",
    "model = EfficientNetV2LOCR(len_chars = num_classes, shape_inp_img=(3, 100, 200)).to(device)\n"
   ]
  },
  {
   "cell_type": "code",
   "execution_count": 13,
   "metadata": {},
   "outputs": [],
   "source": [
    "ctc_loss = nn.CTCLoss(blank=char_to_idx['blank'], zero_infinity=True).to(device)\n",
    "optimizer = torch.optim.Adam(model.parameters(), lr=0.001)"
   ]
  },
  {
   "cell_type": "code",
   "execution_count": 14,
   "metadata": {},
   "outputs": [],
   "source": [
    "plate_metric = PlatesRecognized()\n",
    "symbol_metric = SymbolsRecognized()"
   ]
  },
  {
   "cell_type": "code",
   "execution_count": 15,
   "metadata": {},
   "outputs": [
    {
     "ename": "TypeError",
     "evalue": "expected Tensor as element 0 in argument 0, but got numpy.ndarray",
     "output_type": "error",
     "traceback": [
      "\u001b[1;31m---------------------------------------------------------------------------\u001b[0m",
      "\u001b[1;31mTypeError\u001b[0m                                 Traceback (most recent call last)",
      "Cell \u001b[1;32mIn[15], line 45\u001b[0m\n\u001b[0;32m     42\u001b[0m val_symbol_metric \u001b[38;5;241m=\u001b[39m SymbolsRecognized()\n\u001b[0;32m     44\u001b[0m \u001b[38;5;28;01mwith\u001b[39;00m torch\u001b[38;5;241m.\u001b[39mno_grad():\n\u001b[1;32m---> 45\u001b[0m \u001b[43m    \u001b[49m\u001b[38;5;28;43;01mfor\u001b[39;49;00m\u001b[43m \u001b[49m\u001b[43mval_batch_idx\u001b[49m\u001b[43m,\u001b[49m\u001b[43m \u001b[49m\u001b[43m(\u001b[49m\u001b[43mval_images\u001b[49m\u001b[43m,\u001b[49m\u001b[43m \u001b[49m\u001b[43mval_labels_flat\u001b[49m\u001b[43m,\u001b[49m\u001b[43m \u001b[49m\u001b[43mval_label_lengths\u001b[49m\u001b[43m)\u001b[49m\u001b[43m \u001b[49m\u001b[38;5;129;43;01min\u001b[39;49;00m\u001b[43m \u001b[49m\u001b[38;5;28;43menumerate\u001b[39;49m\u001b[43m(\u001b[49m\u001b[43mval_dataloader\u001b[49m\u001b[43m)\u001b[49m\u001b[43m:\u001b[49m\n\u001b[0;32m     46\u001b[0m \u001b[43m        \u001b[49m\u001b[43mval_images\u001b[49m\u001b[43m \u001b[49m\u001b[38;5;241;43m=\u001b[39;49m\u001b[43m \u001b[49m\u001b[43mval_images\u001b[49m\u001b[38;5;241;43m.\u001b[39;49m\u001b[43mto\u001b[49m\u001b[43m(\u001b[49m\u001b[43mdevice\u001b[49m\u001b[43m)\u001b[49m\n\u001b[0;32m     47\u001b[0m \u001b[43m        \u001b[49m\u001b[43mval_labels_flat\u001b[49m\u001b[43m \u001b[49m\u001b[38;5;241;43m=\u001b[39;49m\u001b[43m \u001b[49m\u001b[43mval_labels_flat\u001b[49m\u001b[38;5;241;43m.\u001b[39;49m\u001b[43mto\u001b[49m\u001b[43m(\u001b[49m\u001b[43mdevice\u001b[49m\u001b[43m)\u001b[49m\n",
      "File \u001b[1;32md:\\Envs\\torch\\Lib\\site-packages\\torch\\utils\\data\\dataloader.py:701\u001b[0m, in \u001b[0;36m_BaseDataLoaderIter.__next__\u001b[1;34m(self)\u001b[0m\n\u001b[0;32m    698\u001b[0m \u001b[38;5;28;01mif\u001b[39;00m \u001b[38;5;28mself\u001b[39m\u001b[38;5;241m.\u001b[39m_sampler_iter \u001b[38;5;129;01mis\u001b[39;00m \u001b[38;5;28;01mNone\u001b[39;00m:\n\u001b[0;32m    699\u001b[0m     \u001b[38;5;66;03m# TODO(https://github.com/pytorch/pytorch/issues/76750)\u001b[39;00m\n\u001b[0;32m    700\u001b[0m     \u001b[38;5;28mself\u001b[39m\u001b[38;5;241m.\u001b[39m_reset()  \u001b[38;5;66;03m# type: ignore[call-arg]\u001b[39;00m\n\u001b[1;32m--> 701\u001b[0m data \u001b[38;5;241m=\u001b[39m \u001b[38;5;28;43mself\u001b[39;49m\u001b[38;5;241;43m.\u001b[39;49m\u001b[43m_next_data\u001b[49m\u001b[43m(\u001b[49m\u001b[43m)\u001b[49m\n\u001b[0;32m    702\u001b[0m \u001b[38;5;28mself\u001b[39m\u001b[38;5;241m.\u001b[39m_num_yielded \u001b[38;5;241m+\u001b[39m\u001b[38;5;241m=\u001b[39m \u001b[38;5;241m1\u001b[39m\n\u001b[0;32m    703\u001b[0m \u001b[38;5;28;01mif\u001b[39;00m (\n\u001b[0;32m    704\u001b[0m     \u001b[38;5;28mself\u001b[39m\u001b[38;5;241m.\u001b[39m_dataset_kind \u001b[38;5;241m==\u001b[39m _DatasetKind\u001b[38;5;241m.\u001b[39mIterable\n\u001b[0;32m    705\u001b[0m     \u001b[38;5;129;01mand\u001b[39;00m \u001b[38;5;28mself\u001b[39m\u001b[38;5;241m.\u001b[39m_IterableDataset_len_called \u001b[38;5;129;01mis\u001b[39;00m \u001b[38;5;129;01mnot\u001b[39;00m \u001b[38;5;28;01mNone\u001b[39;00m\n\u001b[0;32m    706\u001b[0m     \u001b[38;5;129;01mand\u001b[39;00m \u001b[38;5;28mself\u001b[39m\u001b[38;5;241m.\u001b[39m_num_yielded \u001b[38;5;241m>\u001b[39m \u001b[38;5;28mself\u001b[39m\u001b[38;5;241m.\u001b[39m_IterableDataset_len_called\n\u001b[0;32m    707\u001b[0m ):\n",
      "File \u001b[1;32md:\\Envs\\torch\\Lib\\site-packages\\torch\\utils\\data\\dataloader.py:757\u001b[0m, in \u001b[0;36m_SingleProcessDataLoaderIter._next_data\u001b[1;34m(self)\u001b[0m\n\u001b[0;32m    755\u001b[0m \u001b[38;5;28;01mdef\u001b[39;00m \u001b[38;5;21m_next_data\u001b[39m(\u001b[38;5;28mself\u001b[39m):\n\u001b[0;32m    756\u001b[0m     index \u001b[38;5;241m=\u001b[39m \u001b[38;5;28mself\u001b[39m\u001b[38;5;241m.\u001b[39m_next_index()  \u001b[38;5;66;03m# may raise StopIteration\u001b[39;00m\n\u001b[1;32m--> 757\u001b[0m     data \u001b[38;5;241m=\u001b[39m \u001b[38;5;28;43mself\u001b[39;49m\u001b[38;5;241;43m.\u001b[39;49m\u001b[43m_dataset_fetcher\u001b[49m\u001b[38;5;241;43m.\u001b[39;49m\u001b[43mfetch\u001b[49m\u001b[43m(\u001b[49m\u001b[43mindex\u001b[49m\u001b[43m)\u001b[49m  \u001b[38;5;66;03m# may raise StopIteration\u001b[39;00m\n\u001b[0;32m    758\u001b[0m     \u001b[38;5;28;01mif\u001b[39;00m \u001b[38;5;28mself\u001b[39m\u001b[38;5;241m.\u001b[39m_pin_memory:\n\u001b[0;32m    759\u001b[0m         data \u001b[38;5;241m=\u001b[39m _utils\u001b[38;5;241m.\u001b[39mpin_memory\u001b[38;5;241m.\u001b[39mpin_memory(data, \u001b[38;5;28mself\u001b[39m\u001b[38;5;241m.\u001b[39m_pin_memory_device)\n",
      "File \u001b[1;32md:\\Envs\\torch\\Lib\\site-packages\\torch\\utils\\data\\_utils\\fetch.py:55\u001b[0m, in \u001b[0;36m_MapDatasetFetcher.fetch\u001b[1;34m(self, possibly_batched_index)\u001b[0m\n\u001b[0;32m     53\u001b[0m \u001b[38;5;28;01melse\u001b[39;00m:\n\u001b[0;32m     54\u001b[0m     data \u001b[38;5;241m=\u001b[39m \u001b[38;5;28mself\u001b[39m\u001b[38;5;241m.\u001b[39mdataset[possibly_batched_index]\n\u001b[1;32m---> 55\u001b[0m \u001b[38;5;28;01mreturn\u001b[39;00m \u001b[38;5;28;43mself\u001b[39;49m\u001b[38;5;241;43m.\u001b[39;49m\u001b[43mcollate_fn\u001b[49m\u001b[43m(\u001b[49m\u001b[43mdata\u001b[49m\u001b[43m)\u001b[49m\n",
      "Cell \u001b[1;32mIn[9], line 17\u001b[0m, in \u001b[0;36mcollate_fn\u001b[1;34m(batch)\u001b[0m\n\u001b[0;32m     15\u001b[0m \u001b[38;5;28;01mdef\u001b[39;00m \u001b[38;5;21mcollate_fn\u001b[39m(batch):\n\u001b[0;32m     16\u001b[0m     images, labels \u001b[38;5;241m=\u001b[39m \u001b[38;5;28mzip\u001b[39m(\u001b[38;5;241m*\u001b[39mbatch)\n\u001b[1;32m---> 17\u001b[0m     images \u001b[38;5;241m=\u001b[39m \u001b[43mtorch\u001b[49m\u001b[38;5;241;43m.\u001b[39;49m\u001b[43mstack\u001b[49m\u001b[43m(\u001b[49m\u001b[43mimages\u001b[49m\u001b[43m,\u001b[49m\u001b[43m \u001b[49m\u001b[38;5;241;43m0\u001b[39;49m\u001b[43m)\u001b[49m\n\u001b[0;32m     19\u001b[0m     max_label_length \u001b[38;5;241m=\u001b[39m \u001b[38;5;28mmax\u001b[39m(\u001b[38;5;28mlen\u001b[39m(label) \u001b[38;5;28;01mfor\u001b[39;00m label \u001b[38;5;129;01min\u001b[39;00m labels)\n\u001b[0;32m     20\u001b[0m     labels_padded \u001b[38;5;241m=\u001b[39m torch\u001b[38;5;241m.\u001b[39mzeros(\u001b[38;5;28mlen\u001b[39m(labels), max_label_length, dtype\u001b[38;5;241m=\u001b[39mtorch\u001b[38;5;241m.\u001b[39mlong)\n",
      "\u001b[1;31mTypeError\u001b[0m: expected Tensor as element 0 in argument 0, but got numpy.ndarray"
     ]
    },
    {
     "ename": "",
     "evalue": "",
     "output_type": "error",
     "traceback": [
      "\u001b[1;31mThe Kernel crashed while executing code in the current cell or a previous cell. \n",
      "\u001b[1;31mPlease review the code in the cell(s) to identify a possible cause of the failure. \n",
      "\u001b[1;31mClick <a href='https://aka.ms/vscodeJupyterKernelCrash'>here</a> for more info. \n",
      "\u001b[1;31mView Jupyter <a href='command:jupyter.viewOutput'>log</a> for further details."
     ]
    }
   ],
   "source": [
    "best_loss = float('inf')\n",
    "num_epochs = 200\n",
    "for epoch in range(num_epochs):\n",
    "    plate_metric.reset()\n",
    "    symbol_metric.reset()\n",
    "    \n",
    "    model.train()\n",
    "\n",
    "    epoch_loss = 0.0\n",
    "    num_batches = 0\n",
    "\n",
    "    for batch_idx, (images, labels_flat, label_lengths) in enumerate(train_dataloader):\n",
    "        images = images.to(device)\n",
    "        labels_flat = labels_flat.to(device)\n",
    "        label_lengths = label_lengths.to(device)\n",
    "        \n",
    "        optimizer.zero_grad()\n",
    "        outputs = model(images)\n",
    "        batch_size = images.size(0)\n",
    "        input_lengths = torch.full(size=(batch_size,), fill_value=outputs.size(0), dtype=torch.long).to(device)\n",
    "        loss = ctc_loss(outputs, labels_flat, input_lengths, label_lengths)\n",
    "        loss.backward()\n",
    "        optimizer.step()\n",
    "\n",
    "        epoch_loss += loss.item()\n",
    "        num_batches += 1\n",
    "\n",
    "        with torch.no_grad():\n",
    "            y_pred_decoded = outputs.argmax(dim=2).permute(1, 0)\n",
    "\n",
    "        plate_metric.update_state(labels_flat, y_pred_decoded)\n",
    "        symbol_metric.update_state(labels_flat, y_pred_decoded)\n",
    "\n",
    "        task.logger.report_scalar(\"Batch Loss\", \"Batch\", loss.item(), batch_idx + epoch * len(train_dataloader))\n",
    "\n",
    "    avg_epoch_loss = epoch_loss / num_batches\n",
    "\n",
    "    model.eval()\n",
    "    val_loss = 0\n",
    "    val_batches = 0\n",
    "    val_plate_metric = PlatesRecognized()\n",
    "    val_symbol_metric = SymbolsRecognized()\n",
    "\n",
    "    with torch.no_grad():\n",
    "        for val_batch_idx, (val_images, val_labels_flat, val_label_lengths) in enumerate(val_dataloader):\n",
    "            val_images = val_images.to(device)\n",
    "            val_labels_flat = val_labels_flat.to(device)\n",
    "            val_label_lengths = val_label_lengths.to(device)\n",
    "\n",
    "            val_outputs = model(val_images)\n",
    "            val_batch_size_current = val_images.size(0)\n",
    "            val_input_lengths = torch.full(size=(val_batch_size_current,), fill_value=val_outputs.size(0), dtype=torch.long).to(device)\n",
    "            val_loss_batch = ctc_loss(val_outputs, val_labels_flat, val_input_lengths, val_label_lengths)\n",
    "            val_loss += val_loss_batch.item()\n",
    "            val_batches += 1\n",
    "\n",
    "            y_val_pred_decoded = val_outputs.argmax(dim=2).permute(1, 0)\n",
    "\n",
    "            val_plate_metric.update_state(val_labels_flat, y_val_pred_decoded)\n",
    "            val_symbol_metric.update_state(val_labels_flat, y_val_pred_decoded)\n",
    "\n",
    "    avg_val_loss = val_loss / val_batches\n",
    "\n",
    "    task.logger.report_scalar(\"Epoch Loss\", \"Train Epoch\", avg_epoch_loss, epoch)\n",
    "    task.logger.report_scalar(\"Plates Accuracy\", \"Train Epoch\", plate_metric.result(), epoch)\n",
    "    task.logger.report_scalar(\"Symbols Accuracy\", \"Train Epoch\", symbol_metric.result(), epoch)\n",
    "\n",
    "    task.logger.report_scalar(\"Validation Loss\", \"Val Epoch\", avg_val_loss, epoch)\n",
    "    task.logger.report_scalar(\"Validation Plates Accuracy\", \"Val Epoch\", val_plate_metric.result(), epoch)\n",
    "    task.logger.report_scalar(\"Validation Symbols Accuracy\", \"Val Epoch\", val_symbol_metric.result(), epoch)\n",
    "\n",
    "    print(f\"Epoch {epoch + 1}/{num_epochs}, Train Loss: {avg_epoch_loss:.4f}, Train Plates Acc: {plate_metric.result():.4f}, Train Symbols Acc: {symbol_metric.result():.4f}\")\n",
    "    print(f\"Validation Loss: {avg_val_loss:.4f}, Validation Plates Acc: {val_plate_metric.result():.4f}, Validation Symbols Acc: {val_symbol_metric.result():.4f}\")\n",
    "\n",
    "    if avg_val_loss < best_loss:\n",
    "        best_loss = avg_val_loss\n",
    "        torch.save(model.state_dict(), 'best.pt')\n",
    "        print(f\"Лучшие веса сохранены на эпохе {epoch + 1} с валидационными потерями {avg_val_loss:.4f}\")\n",
    "\n",
    "\n",
    "\n",
    "\n"
   ]
  },
  {
   "cell_type": "code",
   "execution_count": null,
   "metadata": {},
   "outputs": [],
   "source": []
  }
 ],
 "metadata": {
  "kernelspec": {
   "display_name": "torch",
   "language": "python",
   "name": "python3"
  },
  "language_info": {
   "codemirror_mode": {
    "name": "ipython",
    "version": 3
   },
   "file_extension": ".py",
   "mimetype": "text/x-python",
   "name": "python",
   "nbconvert_exporter": "python",
   "pygments_lexer": "ipython3",
   "version": "3.12.7"
  }
 },
 "nbformat": 4,
 "nbformat_minor": 2
}
